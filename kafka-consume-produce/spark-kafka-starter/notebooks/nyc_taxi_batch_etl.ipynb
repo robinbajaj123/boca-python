
{
 "cells": [
  {
   "cell_type": "markdown",
   "metadata": {},
   "source": [
    "# NYC Taxi Batch ETL with PySpark"
   ]
  },
  {
   "cell_type": "code",
   "execution_count": null,
   "metadata": {},
   "outputs": [],
   "source": [
    "from pyspark.sql import SparkSession
",
    "spark = SparkSession.builder.appName("TaxiBatchETL").getOrCreate()
",
    "
",
    "df = spark.read.csv("../data/nyc_taxi_sample.csv", header=True, inferSchema=True)
",
    "df.printSchema()
",
    "df.show(5)
",
    "
",
    "# Filter out long trips
",
    "filtered = df.filter(df.trip_distance < 100)
",
    "
",
    "# Group by vendor
",
    "agg = filtered.groupBy("VendorID").avg("trip_distance")
",
    "agg.show()"
   ]
  }
 ],
 "metadata": {
  "kernelspec": {
   "display_name": "Python 3",
   "language": "python",
   "name": "python3"
  },
  "language_info": {
   "name": "python",
   "version": "3.11"
  }
 },
 "nbformat": 4,
 "nbformat_minor": 5
}
